{
  "nbformat": 4,
  "nbformat_minor": 0,
  "metadata": {
    "colab": {
      "name": "RIDF Exploration.ipynb",
      "provenance": [],
      "collapsed_sections": [],
      "authorship_tag": "ABX9TyPxN2QUHM4omRspBTun5x/L",
      "include_colab_link": true
    },
    "kernelspec": {
      "name": "python3",
      "display_name": "Python 3"
    },
    "accelerator": "GPU"
  },
  "cells": [
    {
      "cell_type": "markdown",
      "metadata": {
        "id": "view-in-github",
        "colab_type": "text"
      },
      "source": [
        "<a href=\"https://colab.research.google.com/github/namhkoh/RIDF-Exploration---Dissertation/blob/main/RIDF_Exploration.ipynb\" target=\"_parent\"><img src=\"https://colab.research.google.com/assets/colab-badge.svg\" alt=\"Open In Colab\"/></a>"
      ]
    },
    {
      "cell_type": "code",
      "metadata": {
        "id": "4DTgcs6b5YcI"
      },
      "source": [
        "# OpenCV\n",
        "#!apt-get -qq install -y libsm6 libxext6 && pip install -q -U opencv-python"
      ],
      "execution_count": null,
      "outputs": []
    },
    {
      "cell_type": "code",
      "metadata": {
        "colab": {
          "base_uri": "https://localhost:8080/"
        },
        "id": "O6fFvtav8e0e",
        "outputId": "bac94cd2-9e1f-4334-b0d4-b622d81b06e5"
      },
      "source": [
        "# Imports\n",
        "import numpy as np\n",
        "from google.colab import drive\n",
        "import cv2\n",
        "import os\n",
        "import matplotlib.pyplot as plt\n",
        "from google.colab.patches import cv2_imshow\n",
        "# Mounting drive\n",
        "drive.mount('/content/gdrive')"
      ],
      "execution_count": null,
      "outputs": [
        {
          "output_type": "stream",
          "text": [
            "Drive already mounted at /content/gdrive; to attempt to forcibly remount, call drive.mount(\"/content/gdrive\", force_remount=True).\n"
          ],
          "name": "stdout"
        }
      ]
    },
    {
      "cell_type": "code",
      "metadata": {
        "id": "eR3wJkJe2D6p"
      },
      "source": [
        "# Image path\n",
        "dataset_url = \"gdrive/MyDrive/\""
      ],
      "execution_count": null,
      "outputs": []
    },
    {
      "cell_type": "code",
      "metadata": {
        "id": "4Pl3yxLn36jz"
      },
      "source": [
        "def loadImages(path):\n",
        "    '''Put files into lists and return them as one list with all images \n",
        "     in the folder'''\n",
        "    image_files = sorted([os.path.join(path,file)\n",
        "                          for file in os.listdir(path)\n",
        "                          if file.endswith('.jpg')])\n",
        "    return image_files"
      ],
      "execution_count": null,
      "outputs": []
    },
    {
      "cell_type": "code",
      "metadata": {
        "id": "E38ihLEe4weL"
      },
      "source": [
        "# Training images\n",
        "train_img = loadImages(dataset_url)"
      ],
      "execution_count": null,
      "outputs": []
    },
    {
      "cell_type": "code",
      "metadata": {
        "colab": {
          "base_uri": "https://localhost:8080/"
        },
        "id": "lcP_uk7y6Ihq",
        "outputId": "a62379d2-ba8f-4672-8595-e16e7e844109"
      },
      "source": [
        "train_img"
      ],
      "execution_count": null,
      "outputs": [
        {
          "output_type": "execute_result",
          "data": {
            "text/plain": [
              "['gdrive/MyDrive/exp3/-1.jpg',\n",
              " 'gdrive/MyDrive/exp3/-2.jpg',\n",
              " 'gdrive/MyDrive/exp3/-3.jpg',\n",
              " 'gdrive/MyDrive/exp3/-4.jpg',\n",
              " 'gdrive/MyDrive/exp3/-5.jpg',\n",
              " 'gdrive/MyDrive/exp3/-6.jpg',\n",
              " 'gdrive/MyDrive/exp3/-7.jpg',\n",
              " 'gdrive/MyDrive/exp3/0.jpg',\n",
              " 'gdrive/MyDrive/exp3/1.jpg',\n",
              " 'gdrive/MyDrive/exp3/2.jpg',\n",
              " 'gdrive/MyDrive/exp3/3.jpg',\n",
              " 'gdrive/MyDrive/exp3/4.jpg',\n",
              " 'gdrive/MyDrive/exp3/5.jpg',\n",
              " 'gdrive/MyDrive/exp3/6.jpg',\n",
              " 'gdrive/MyDrive/exp3/7.jpg']"
            ]
          },
          "metadata": {
            "tags": []
          },
          "execution_count": 45
        }
      ]
    },
    {
      "cell_type": "code",
      "metadata": {
        "id": "r__E86qV56uc"
      },
      "source": [
        "# Image Processing\n",
        "\n",
        "## Image downscale with resize\n",
        "# img = cv2.imread(train_img[0])\n",
        "# gray = cv2.cvtColor(img, cv2.COLOR_BGR2GRAY)\n",
        "# cv2_imshow(img)\n",
        "# cv2_imshow(gray)\n",
        "\n",
        "# Reading all the images\n",
        "images = []\n",
        "for img in train_img:\n",
        "  images.append(cv2.imread(img))\n",
        "print(\"original images\")"
      ],
      "execution_count": null,
      "outputs": []
    },
    {
      "cell_type": "code",
      "metadata": {
        "id": "En8BmWvj9xLw"
      },
      "source": [
        ""
      ],
      "execution_count": null,
      "outputs": []
    }
  ]
}